{
 "cells": [
  {
   "cell_type": "code",
   "execution_count": 1,
   "metadata": {
    "collapsed": true
   },
   "outputs": [
    {
     "name": "stdout",
     "output_type": "stream",
     "text": [
      "Collecting pandas\n",
      "\u001b[?25l  Downloading https://files.pythonhosted.org/packages/74/24/0cdbf8907e1e3bc5a8da03345c23cbed7044330bb8f73bb12e711a640a00/pandas-0.24.2-cp35-cp35m-manylinux1_x86_64.whl (10.0MB)\n",
      "\u001b[K     |████████████████████████████████| 10.0MB 5.6MB/s eta 0:00:01\n",
      "\u001b[?25hCollecting seaborn\n",
      "\u001b[?25l  Downloading https://files.pythonhosted.org/packages/a8/76/220ba4420459d9c4c9c9587c6ce607bf56c25b3d3d2de62056efe482dadc/seaborn-0.9.0-py3-none-any.whl (208kB)\n",
      "\u001b[K     |████████████████████████████████| 215kB 102.7MB/s eta 0:00:01\n",
      "\u001b[?25hRequirement already satisfied: numpy>=1.12.0 in /usr/local/lib/python3.5/dist-packages (from pandas) (1.16.3)\n",
      "Requirement already satisfied: python-dateutil>=2.5.0 in /usr/local/lib/python3.5/dist-packages (from pandas) (2.8.0)\n",
      "Collecting pytz>=2011k (from pandas)\n",
      "\u001b[?25l  Downloading https://files.pythonhosted.org/packages/3d/73/fe30c2daaaa0713420d0382b16fbb761409f532c56bdcc514bf7b6262bb6/pytz-2019.1-py2.py3-none-any.whl (510kB)\n",
      "\u001b[K     |████████████████████████████████| 512kB 102.6MB/s eta 0:00:01\n",
      "\u001b[?25hCollecting scipy>=0.14.0 (from seaborn)\n",
      "\u001b[?25l  Downloading https://files.pythonhosted.org/packages/14/49/8f13fa215e10a7ab0731cc95b0e9bb66cf83c6a98260b154cfbd0b55fb19/scipy-1.3.0-cp35-cp35m-manylinux1_x86_64.whl (25.1MB)\n",
      "\u001b[K     |████████████████████████████████| 25.1MB 101.9MB/s eta 0:00:01\n",
      "\u001b[?25hRequirement already satisfied: matplotlib>=1.4.3 in /usr/local/lib/python3.5/dist-packages (from seaborn) (3.0.3)\n",
      "Requirement already satisfied: six>=1.5 in /usr/local/lib/python3.5/dist-packages (from python-dateutil>=2.5.0->pandas) (1.12.0)\n",
      "Requirement already satisfied: kiwisolver>=1.0.1 in /usr/local/lib/python3.5/dist-packages (from matplotlib>=1.4.3->seaborn) (1.1.0)\n",
      "Requirement already satisfied: cycler>=0.10 in /usr/local/lib/python3.5/dist-packages (from matplotlib>=1.4.3->seaborn) (0.10.0)\n",
      "Requirement already satisfied: pyparsing!=2.0.4,!=2.1.2,!=2.1.6,>=2.0.1 in /usr/local/lib/python3.5/dist-packages (from matplotlib>=1.4.3->seaborn) (2.4.0)\n",
      "Requirement already satisfied: setuptools in /usr/local/lib/python3.5/dist-packages (from kiwisolver>=1.0.1->matplotlib>=1.4.3->seaborn) (41.0.1)\n",
      "Installing collected packages: pytz, pandas, scipy, seaborn\n",
      "Successfully installed pandas-0.24.2 pytz-2019.1 scipy-1.3.0 seaborn-0.9.0\n",
      "\u001b[33mWARNING: You are using pip version 19.1, however version 19.1.1 is available.\n",
      "You should consider upgrading via the 'pip install --upgrade pip' command.\u001b[0m\n"
     ]
    }
   ],
   "source": [
    "!pip install pandas seaborn jupyter_contrib_nbextensions"
   ]
  },
  {
   "cell_type": "code",
   "execution_count": null,
   "metadata": {},
   "outputs": [],
   "source": [
    "!jupyter contrib nbextension install"
   ]
  },
  {
   "cell_type": "code",
   "execution_count": null,
   "metadata": {},
   "outputs": [],
   "source": [
    "%load_ext tensorboard.notebook"
   ]
  },
  {
   "cell_type": "code",
   "execution_count": null,
   "metadata": {},
   "outputs": [],
   "source": [
    "%tensorboard --logdir /logs"
   ]
  },
  {
   "cell_type": "code",
   "execution_count": 2,
   "metadata": {
    "pycharm": {
     "is_executing": false
    }
   },
   "outputs": [
    {
     "name": "stdout",
     "output_type": "stream",
     "text": [
      "1.13.1\n",
      "2.2.4-tf\n"
     ]
    }
   ],
   "source": [
    "from __future__ import absolute_import, division, print_function\n",
    "\n",
    "import pathlib\n",
    "\n",
    "import matplotlib.pyplot as plt\n",
    "import pandas as pd\n",
    "import seaborn as sns\n",
    "\n",
    "import tensorflow as tf\n",
    "\n",
    "print(tf.__version__)\n",
    "print(tf.keras.__version__)"
   ]
  },
  {
   "cell_type": "code",
   "execution_count": 3,
   "metadata": {
    "pycharm": {
     "is_executing": false
    }
   },
   "outputs": [],
   "source": [
    "dataset_path = \"ik_6dof.csv\""
   ]
  },
  {
   "cell_type": "code",
   "execution_count": 4,
   "metadata": {},
   "outputs": [
    {
     "name": "stdout",
     "output_type": "stream",
     "text": [
      "         translation_x  translation_y  translation_z      theta1      theta2  \\\n",
      "1999995     -25.221703      75.170467      10.597455 -100.386328  -54.346197   \n",
      "1999996     -57.352942     -80.326826      15.758973   45.483345  -55.822185   \n",
      "1999997     -52.282227      21.857668     178.785241  162.634951   -2.659852   \n",
      "1999998    -120.905867     113.505353     121.060064  -46.985941   15.157210   \n",
      "1999999      23.046131    -224.671754     -40.724450   90.152346  144.316919   \n",
      "\n",
      "             theta3     theta4      theta5     theta6  \n",
      "1999995 -179.768937 -10.830572  -97.210393  88.087012  \n",
      "1999996  178.602822 -94.372922   48.295755 -44.876752  \n",
      "1999997   42.372009  61.537057  132.797049  92.731205  \n",
      "1999998  -68.649104  80.237684  134.449414 -75.595136  \n",
      "1999999   43.601255  69.977521  -80.760449 -94.318508  \n",
      "translation_x    0\n",
      "translation_y    0\n",
      "translation_z    0\n",
      "theta1           0\n",
      "theta2           0\n",
      "theta3           0\n",
      "theta4           0\n",
      "theta5           0\n",
      "theta6           0\n",
      "dtype: int64\n"
     ]
    }
   ],
   "source": [
    "column_names = [\"translation_x\", \"translation_y\", \"translation_z\", \"theta1\", \"theta2\", \"theta3\",\n",
    "                \"theta4\", \"theta5\", \"theta6\"]\n",
    "raw_dataset = pd.read_csv(dataset_path,\n",
    "                          names=column_names,\n",
    "                          na_values=\"?\",\n",
    "                          sep=\",\",\n",
    "                          skipinitialspace=True)\n",
    "\n",
    "dataset = raw_dataset.copy()\n",
    "print(dataset.tail())\n",
    "\n",
    "print(dataset.isna().sum())\n",
    "dataset = dataset.dropna()"
   ]
  },
  {
   "cell_type": "code",
   "execution_count": 5,
   "metadata": {},
   "outputs": [],
   "source": [
    "train_dataset = dataset.sample(frac=0.8, random_state=0)\n",
    "train_labels = train_dataset[[\"theta1\", \"theta2\", \"theta3\", \"theta4\", \"theta5\", \"theta6\"]]\n",
    "test_dataset = dataset.drop(train_dataset.index)\n",
    "test_labels = test_dataset[[\"theta1\", \"theta2\", \"theta3\", \"theta4\", \"theta5\", \"theta6\"]]"
   ]
  },
  {
   "cell_type": "code",
   "execution_count": 6,
   "metadata": {},
   "outputs": [
    {
     "name": "stdout",
     "output_type": "stream",
     "text": [
      "WARNING:tensorflow:From /usr/local/lib/python3.5/dist-packages/tensorflow/python/ops/resource_variable_ops.py:435: colocate_with (from tensorflow.python.framework.ops) is deprecated and will be removed in a future version.\n",
      "Instructions for updating:\n",
      "Colocations handled automatically by placer.\n"
     ]
    }
   ],
   "source": [
    "model = keras.Sequential([\n",
    "    tf.keras.python.layers.Dense(128, activation=tf.nn.tanh, input_shape=[len(train_dataset.keys())]),\n",
    "    tf.keras.python.layers.Dense(128, activation=tf.nn.tanh),\n",
    "    tf.keras.python.layers.Dense(len(train_labels.keys()), activation=tf.keras.activations.linear)\n",
    "])"
   ]
  },
  {
   "cell_type": "code",
   "execution_count": 7,
   "metadata": {},
   "outputs": [
    {
     "name": "stdout",
     "output_type": "stream",
     "text": [
      "_________________________________________________________________\n",
      "Layer (type)                 Output Shape              Param #   \n",
      "=================================================================\n",
      "dense (Dense)                (None, 128)               1280      \n",
      "_________________________________________________________________\n",
      "dense_1 (Dense)              (None, 128)               16512     \n",
      "_________________________________________________________________\n",
      "dense_2 (Dense)              (None, 6)                 774       \n",
      "=================================================================\n",
      "Total params: 18,566\n",
      "Trainable params: 18,566\n",
      "Non-trainable params: 0\n",
      "_________________________________________________________________\n",
      "None\n"
     ]
    }
   ],
   "source": [
    "model.compile(optimizer=tf.keras.optimizers.Adam(lr=0.001),\n",
    "              loss=tf.keras.losses.mean_squared_error,\n",
    "              metrics=['accuracy', 'mean_squared_error'])\n",
    "\n",
    "print(model.summary())"
   ]
  },
  {
   "cell_type": "code",
   "execution_count": 8,
   "metadata": {},
   "outputs": [],
   "source": [
    "class PrintDot(tf.keras.callbacks.Callback):\n",
    "    # noinspection PyMethodOverriding\n",
    "    def on_epoch_end(self, epoch, logs):\n",
    "        if epoch % 100 == 0: print('')\n",
    "        print('.', end='')"
   ]
  },
  {
   "cell_type": "code",
   "execution_count": 9,
   "metadata": {},
   "outputs": [
    {
     "name": "stdout",
     "output_type": "stream",
     "text": [
      "WARNING:tensorflow:From /usr/local/lib/python3.5/dist-packages/tensorflow/python/ops/math_ops.py:3066: to_int32 (from tensorflow.python.ops.math_ops) is deprecated and will be removed in a future version.\n",
      "Instructions for updating:\n",
      "Use tf.cast instead.\n",
      "\n",
      "....................................................................................................\n",
      "....................................................................................................\n",
      "....................................................................................................\n",
      "....................................................................................................\n",
      "................................................................................\n"
     ]
    }
   ],
   "source": [
    "early_stop = tf.keras.callbacks.EarlyStopping(monitor='val_loss', patience=50)\n",
    "\n",
    "checkpoint_cb = tf.keras.callbacks.ModelCheckpoint(\"train_6dof_ckpt/train_6dof_cp.ckpt\",\n",
    "                                                   save_weights_only=True,\n",
    "                                                   verbose=0)\n",
    "\n",
    "history = model.fit(train_dataset,\n",
    "                    train_labels,\n",
    "                    epochs=1000,\n",
    "                    validation_split=0.2,\n",
    "                    verbose=0,\n",
    "                    callbacks=[early_stop, PrintDot(), checkpoint_cb])\n",
    "print('')"
   ]
  },
  {
   "cell_type": "code",
   "execution_count": 10,
   "metadata": {},
   "outputs": [
    {
     "name": "stdout",
     "output_type": "stream",
     "text": [
      "          acc       loss  mean_squared_error   val_acc   val_loss  \\\n",
      "475  0.919134  93.981490           93.981941  0.918544  94.882375   \n",
      "476  0.918624  94.035666           94.035919  0.918537  94.561332   \n",
      "477  0.918758  93.597756           93.598190  0.919241  93.982237   \n",
      "478  0.919110  93.737740           93.737206  0.919603  93.541178   \n",
      "479  0.919054  93.938055           93.937698  0.918234  94.811612   \n",
      "\n",
      "     val_mean_squared_error  epoch  \n",
      "475               94.882225    475  \n",
      "476               94.561409    476  \n",
      "477               93.982201    477  \n",
      "478               93.541122    478  \n",
      "479               94.811386    479  \n"
     ]
    }
   ],
   "source": [
    "history_df = pd.DataFrame(history.history)\n",
    "history_df['epoch'] = history.epoch\n",
    "print(history_df.tail())"
   ]
  },
  {
   "cell_type": "code",
   "execution_count": 11,
   "metadata": {},
   "outputs": [],
   "source": [
    "def plot_history(history):\n",
    "    hist = pd.DataFrame(history.history)\n",
    "    hist['epoch'] = history.epoch\n",
    "\n",
    "    plt.figure()\n",
    "    plt.xlabel('Epoch')\n",
    "    plt.ylabel('Mean Square Error')\n",
    "    plt.plot(hist['epoch'], hist['mean_squared_error'],\n",
    "             label='Train Error')\n",
    "    plt.plot(hist['epoch'], hist['val_mean_squared_error'],\n",
    "             label='Val Error')\n",
    "    plt.semilogy()\n",
    "    plt.legend()\n",
    "    plt.show()"
   ]
  },
  {
   "cell_type": "code",
   "execution_count": 12,
   "metadata": {},
   "outputs": [
    {
     "data": {
      "image/png": "[encoded data removed]",
      "text/plain": [
       "<Figure size 432x288 with 1 Axes>"
      ]
     },
     "metadata": {
      "needs_background": "light"
     },
     "output_type": "display_data"
    }
   ],
   "source": [
    "plot_history(history)"
   ]
  },
  {
   "cell_type": "code",
   "execution_count": 14,
   "metadata": {},
   "outputs": [
    {
     "name": "stdout",
     "output_type": "stream",
     "text": [
      "Test dataset Accuracy: 0.9191874861717224 Mean Square Error: 94.79502868652344\n"
     ]
    }
   ],
   "source": [
    "loss, accuracy, mse = model.evaluate(test_dataset, test_labels, verbose=0)\n",
    "print(\"Test dataset Accuracy: {} Mean Square Error: {}\".format(accuracy, mse))"
   ]
  },
  {
   "cell_type": "code",
   "execution_count": null,
   "metadata": {},
   "outputs": [],
   "source": []
  }
 ],
 "metadata": {
  "celltoolbar": "Raw Cell Format",
  "kernelspec": {
   "display_name": "Python 3",
   "language": "python",
   "name": "python3"
  },
  "language_info": {
   "codemirror_mode": {
    "name": "ipython",
    "version": 3
   },
   "file_extension": ".py",
   "mimetype": "text/x-python",
   "name": "python",
   "nbconvert_exporter": "python",
   "pygments_lexer": "ipython3",
   "version": "3.5.2"
  },
  "pycharm": {
   "stem_cell": {
    "cell_type": "raw",
    "metadata": {
     "collapsed": false
    },
    "source": []
   }
  }
 },
 "nbformat": 4,
 "nbformat_minor": 2
}
