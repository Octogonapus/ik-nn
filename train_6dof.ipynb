{
 "cells": [
  {
   "cell_type": "code",
   "execution_count": 81,
   "metadata": {
    "pycharm": {
     "is_executing": false
    }
   },
   "outputs": [
    {
     "name": "stdout",
     "output_type": "stream",
     "text": [
      "1.13.1\n",
      "2.2.4-tf\n"
     ]
    }
   ],
   "source": [
    "from __future__ import absolute_import, division, print_function\n",
    "\n",
    "import pathlib\n",
    "\n",
    "import matplotlib.pyplot as plt\n",
    "import pandas as pd\n",
    "import seaborn as sns\n",
    "\n",
    "import tensorflow as tf\n",
    "from tensorflow import keras\n",
    "from tensorflow.python.keras import layers\n",
    "\n",
    "print(tf.__version__)\n",
    "print(tf.keras.__version__)"
   ]
  },
  {
   "cell_type": "code",
   "execution_count": 82,
   "metadata": {
    "pycharm": {
     "is_executing": false
    }
   },
   "outputs": [],
   "source": [
    "dataset_path = \"ik_6dof.csv\""
   ]
  },
  {
   "cell_type": "code",
   "execution_count": 83,
   "metadata": {},
   "outputs": [
    {
     "name": "stdout",
     "output_type": "stream",
     "text": [
      "      translation_x  translation_y  translation_z      theta1     theta2  \\\n",
      "9995    -151.157713     171.566117       5.006599  -51.169011  77.344178   \n",
      "9996    -224.731613      71.274519     124.540729  -20.625085  75.703548   \n",
      "9997     -51.665504       9.199024     214.219627  -55.629066 -35.285323   \n",
      "9998     196.070846    -192.481076      24.423088  135.561237  81.604902   \n",
      "9999     -51.013554     -55.414011     -79.555845   19.400503  66.219363   \n",
      "\n",
      "          theta3      theta4      theta5      theta6  \n",
      "9995  -44.702346  115.458836 -159.152054  -81.881913  \n",
      "9996    4.329717   93.720891  -72.134989  135.640345  \n",
      "9997  -72.289837   11.369011  -73.103537  -32.909345  \n",
      "9998  -20.514301  -21.390860   37.445242 -107.086803  \n",
      "9999 -149.537943 -152.810356   73.506503  144.269638  \n",
      "translation_x    0\n",
      "translation_y    0\n",
      "translation_z    0\n",
      "theta1           0\n",
      "theta2           0\n",
      "theta3           0\n",
      "theta4           0\n",
      "theta5           0\n",
      "theta6           0\n",
      "dtype: int64\n"
     ]
    }
   ],
   "source": [
    "column_names = [\"translation_x\", \"translation_y\", \"translation_z\", \"theta1\", \"theta2\", \"theta3\",\n",
    "                \"theta4\", \"theta5\", \"theta6\"]\n",
    "raw_dataset = pd.read_csv(dataset_path,\n",
    "                          names=column_names,\n",
    "                          na_values=\"?\",\n",
    "                          sep=\",\",\n",
    "                          skipinitialspace=True)\n",
    "\n",
    "dataset = raw_dataset.copy()\n",
    "print(dataset.tail())\n",
    "\n",
    "print(dataset.isna().sum())\n",
    "dataset = dataset.dropna()"
   ]
  },
  {
   "cell_type": "code",
   "execution_count": 84,
   "metadata": {},
   "outputs": [],
   "source": [
    "train_dataset = dataset.sample(frac=0.8, random_state=0)\n",
    "train_labels = train_dataset[[\"theta1\", \"theta2\", \"theta3\", \"theta4\", \"theta5\", \"theta6\"]]\n",
    "test_dataset = dataset.drop(train_dataset.index)\n",
    "test_labels = test_dataset[[\"theta1\", \"theta2\", \"theta3\", \"theta4\", \"theta5\", \"theta6\"]]"
   ]
  },
  {
   "cell_type": "code",
   "execution_count": 85,
   "metadata": {},
   "outputs": [],
   "source": [
    "model = keras.Sequential([\n",
    "    layers.Dense(128, activation=tf.nn.tanh, input_shape=[len(train_dataset.keys())]),\n",
    "    layers.Dense(128, activation=tf.nn.tanh),\n",
    "    layers.Dense(len(train_labels.keys()), activation=tf.keras.activations.linear)\n",
    "])"
   ]
  },
  {
   "cell_type": "code",
   "execution_count": 86,
   "metadata": {},
   "outputs": [
    {
     "name": "stdout",
     "output_type": "stream",
     "text": [
      "_________________________________________________________________\n",
      "Layer (type)                 Output Shape              Param #   \n",
      "=================================================================\n",
      "dense_22 (Dense)             (None, 128)               1280      \n",
      "_________________________________________________________________\n",
      "dense_23 (Dense)             (None, 128)               16512     \n",
      "_________________________________________________________________\n",
      "dense_24 (Dense)             (None, 6)                 774       \n",
      "=================================================================\n",
      "Total params: 18,566\n",
      "Trainable params: 18,566\n",
      "Non-trainable params: 0\n",
      "_________________________________________________________________\n",
      "None\n"
     ]
    }
   ],
   "source": [
    "model.compile(optimizer=tf.keras.optimizers.Adam(lr=0.001),\n",
    "              loss=tf.keras.losses.mean_squared_error,\n",
    "              metrics=['accuracy', 'mean_squared_error'])\n",
    "\n",
    "print(model.summary())"
   ]
  },
  {
   "cell_type": "code",
   "execution_count": 87,
   "metadata": {},
   "outputs": [],
   "source": [
    "class PrintDot(keras.callbacks.Callback):\n",
    "    # noinspection PyMethodOverriding\n",
    "    def on_epoch_end(self, epoch, logs):\n",
    "        if epoch % 100 == 0: print('')\n",
    "        print('.', end='')"
   ]
  },
  {
   "cell_type": "code",
   "execution_count": 88,
   "metadata": {},
   "outputs": [
    {
     "name": "stdout",
     "output_type": "stream",
     "text": [
      "\n",
      "................................................................................................\n"
     ]
    }
   ],
   "source": [
    "early_stop = keras.callbacks.EarlyStopping(monitor='val_loss', patience=10)\n",
    "\n",
    "history = model.fit(train_dataset,\n",
    "                    train_labels,\n",
    "                    epochs=1000,\n",
    "                    validation_split=0.2,\n",
    "                    verbose=0,\n",
    "                    callbacks=[early_stop, PrintDot()])\n",
    "print('')"
   ]
  },
  {
   "cell_type": "code",
   "execution_count": 89,
   "metadata": {},
   "outputs": [
    {
     "name": "stdout",
     "output_type": "stream",
     "text": [
      "         acc        loss  mean_squared_error   val_acc    val_loss  \\\n",
      "91  0.909219  140.921226          140.921234  0.885000  266.895354   \n",
      "92  0.908281  140.667738          140.667725  0.879375  267.405495   \n",
      "93  0.910156  139.226354          139.226334  0.877500  270.175211   \n",
      "94  0.908281  139.573631          139.573624  0.879375  267.150642   \n",
      "95  0.910937  136.209273          136.209274  0.878125  267.297672   \n",
      "\n",
      "    val_mean_squared_error  epoch  \n",
      "91              266.895325     91  \n",
      "92              267.405518     92  \n",
      "93              270.175262     93  \n",
      "94              267.150635     94  \n",
      "95              267.297668     95  \n"
     ]
    }
   ],
   "source": [
    "history_df = pd.DataFrame(history.history)\n",
    "history_df['epoch'] = history.epoch\n",
    "print(history_df.tail())"
   ]
  },
  {
   "cell_type": "code",
   "execution_count": 90,
   "metadata": {},
   "outputs": [],
   "source": [
    "def plot_history(history):\n",
    "    hist = pd.DataFrame(history.history)\n",
    "    hist['epoch'] = history.epoch\n",
    "\n",
    "    plt.figure()\n",
    "    plt.xlabel('Epoch')\n",
    "    plt.ylabel('Mean Square Error')\n",
    "    plt.plot(hist['epoch'], hist['mean_squared_error'],\n",
    "             label='Train Error')\n",
    "    plt.plot(hist['epoch'], hist['val_mean_squared_error'],\n",
    "             label='Val Error')\n",
    "    plt.semilogy()\n",
    "    plt.legend()\n",
    "    plt.show()"
   ]
  },
  {
   "cell_type": "code",
   "execution_count": 91,
   "metadata": {},
   "outputs": [
    {
     "data": {
      "image/png": "[encoded data removed]",
      "text/plain": [
       "<Figure size 432x288 with 1 Axes>"
      ]
     },
     "metadata": {
      "needs_background": "light"
     },
     "output_type": "display_data"
    }
   ],
   "source": [
    "plot_history(history)"
   ]
  },
  {
   "cell_type": "code",
   "execution_count": 92,
   "metadata": {},
   "outputs": [
    {
     "name": "stdout",
     "output_type": "stream",
     "text": [
      "Test dataset Accuracy: 0.8805000185966492 Mean Square Error: 275.60552978515625\n"
     ]
    }
   ],
   "source": [
    "loss, accuracy, mse = model.evaluate(test_dataset, test_labels, verbose=0)\n",
    "print(\"Test dataset Accuracy: {} Mean Square Error: {}\".format(accuracy, mse))"
   ]
  },
  {
   "cell_type": "code",
   "execution_count": null,
   "metadata": {},
   "outputs": [],
   "source": []
  }
 ],
 "metadata": {
  "kernelspec": {
   "display_name": "Python 3",
   "language": "python",
   "name": "python3"
  },
  "language_info": {
   "codemirror_mode": {
    "name": "ipython",
    "version": 3
   },
   "file_extension": ".py",
   "mimetype": "text/x-python",
   "name": "python",
   "nbconvert_exporter": "python",
   "pygments_lexer": "ipython3",
   "version": "3.5.2"
  },
  "pycharm": {
   "stem_cell": {
    "cell_type": "raw",
    "metadata": {
     "collapsed": false
    },
    "source": []
   }
  }
 },
 "nbformat": 4,
 "nbformat_minor": 2
}
