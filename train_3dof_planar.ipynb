{
 "cells": [
  {
   "cell_type": "code",
   "execution_count": 4,
   "metadata": {
    "pycharm": {
     "is_executing": false
    }
   },
   "outputs": [
    {
     "ename": "ImportError",
     "evalue": "No module named 'pandas'",
     "traceback": [
      "\u001b[0;31m---------------------------------------------------------------------------\u001b[0m",
      "\u001b[0;31mImportError\u001b[0m                               Traceback (most recent call last)",
      "\u001b[0;32m<ipython-input-4-ba0dd2b6308d>\u001b[0m in \u001b[0;36m<module>\u001b[0;34m\u001b[0m\n\u001b[1;32m      4\u001b[0m \u001b[0;34m\u001b[0m\u001b[0m\n\u001b[1;32m      5\u001b[0m \u001b[0;32mimport\u001b[0m \u001b[0mmatplotlib\u001b[0m\u001b[0;34m.\u001b[0m\u001b[0mpyplot\u001b[0m \u001b[0;32mas\u001b[0m \u001b[0mplt\u001b[0m\u001b[0;34m\u001b[0m\u001b[0m\n\u001b[0;32m----> 6\u001b[0;31m \u001b[0;32mimport\u001b[0m \u001b[0mpandas\u001b[0m \u001b[0;32mas\u001b[0m \u001b[0mpd\u001b[0m\u001b[0;34m\u001b[0m\u001b[0m\n\u001b[0m\u001b[1;32m      7\u001b[0m \u001b[0;32mimport\u001b[0m \u001b[0mseaborn\u001b[0m \u001b[0;32mas\u001b[0m \u001b[0msns\u001b[0m\u001b[0;34m\u001b[0m\u001b[0m\n\u001b[1;32m      8\u001b[0m \u001b[0;34m\u001b[0m\u001b[0m\n",
      "\u001b[0;31mImportError\u001b[0m: No module named 'pandas'"
     ],
     "output_type": "error"
    }
   ],
   "source": [
    "from __future__ import absolute_import, division, print_function\n",
    "\n",
    "import pathlib\n",
    "\n",
    "import matplotlib.pyplot as plt\n",
    "import pandas as pd\n",
    "import seaborn as sns\n",
    "\n",
    "import tensorflow as tf\n",
    "from tensorflow import keras\n",
    "from tensorflow.python.keras import layers\n",
    "\n",
    "print(tf.__version__)\n",
    "print(tf.keras.__version__)"
   ]
  },
  {
   "cell_type": "code",
   "execution_count": 5,
   "metadata": {
    "pycharm": {
     "is_executing": false
    }
   },
   "outputs": [],
   "source": [
    "dataset_path = \"ik.csv\""
   ]
  },
  {
   "cell_type": "code",
   "execution_count": 82,
   "metadata": {},
   "outputs": [
    {
     "name": "stdout",
     "output_type": "stream",
     "text": [
      "      translation_x  translation_y     rot_z      theta1      theta2  \\\n",
      "9995      -4.629043      -1.335413  2.509197    1.735591 -132.718335   \n",
      "9996      -4.431661     -17.961425  1.164591  -81.048058 -105.284763   \n",
      "9997       0.904363     -17.198005  3.073983  -65.064058   16.865170   \n",
      "9998      -2.458653      -1.255767  1.833824  154.196350 -130.321383   \n",
      "9999       5.899068      -9.281253  1.030733 -129.972125  174.071725   \n",
      "\n",
      "          theta3  \n",
      "9995  -85.250850  \n",
      "9996  119.606645  \n",
      "9997 -127.927388  \n",
      "9998 -128.945334  \n",
      "9999 -103.156238  \n",
      "translation_x    0\n",
      "translation_y    0\n",
      "rot_z            0\n",
      "theta1           0\n",
      "theta2           0\n",
      "theta3           0\n",
      "dtype: int64\n"
     ]
    }
   ],
   "source": [
    "column_names = [\"translation_x\", \"translation_y\", \"rot_z\", \"theta1\", \"theta2\", \"theta3\"]\n",
    "raw_dataset = pd.read_csv(dataset_path,\n",
    "                          names=column_names,\n",
    "                          na_values=\"?\",\n",
    "                          sep=\",\",\n",
    "                          skipinitialspace=True)\n",
    "\n",
    "dataset = raw_dataset.copy()\n",
    "print(dataset.tail())\n",
    "\n",
    "print(dataset.isna().sum())\n",
    "dataset = dataset.dropna()"
   ]
  },
  {
   "cell_type": "code",
   "execution_count": 83,
   "metadata": {},
   "outputs": [],
   "source": [
    "train_dataset = dataset.sample(frac=0.8, random_state=0)\n",
    "train_labels = train_dataset[[\"theta1\", \"theta2\", \"theta3\"]]\n",
    "test_dataset = dataset.drop(train_dataset.index)\n",
    "test_labels = test_dataset[[\"theta1\", \"theta2\", \"theta3\"]]"
   ]
  },
  {
   "cell_type": "code",
   "execution_count": 84,
   "metadata": {},
   "outputs": [],
   "source": [
    "model = keras.Sequential([\n",
    "    layers.Dense(100, activation=tf.nn.tanh, input_shape=[len(train_dataset.keys())]),\n",
    "    layers.Dense(3, activation=tf.keras.activations.linear)\n",
    "])"
   ]
  },
  {
   "cell_type": "code",
   "execution_count": 85,
   "metadata": {},
   "outputs": [
    {
     "name": "stdout",
     "output_type": "stream",
     "text": [
      "_________________________________________________________________\n",
      "Layer (type)                 Output Shape              Param #   \n",
      "=================================================================\n",
      "dense_8 (Dense)              (None, 100)               700       \n",
      "_________________________________________________________________\n",
      "dense_9 (Dense)              (None, 3)                 303       \n",
      "=================================================================\n",
      "Total params: 1,003\n",
      "Trainable params: 1,003\n",
      "Non-trainable params: 0\n",
      "_________________________________________________________________\n",
      "None\n"
     ]
    }
   ],
   "source": [
    "model.compile(optimizer=tf.keras.optimizers.Adam(lr=0.001),\n",
    "              loss=tf.keras.losses.mean_squared_error,\n",
    "              metrics=['accuracy', 'mean_squared_error'])\n",
    "\n",
    "print(model.summary())"
   ]
  },
  {
   "cell_type": "code",
   "execution_count": 86,
   "metadata": {},
   "outputs": [],
   "source": [
    "class PrintDot(keras.callbacks.Callback):\n",
    "    # noinspection PyMethodOverriding\n",
    "    def on_epoch_end(self, epoch, logs):\n",
    "        if epoch % 100 == 0: print('')\n",
    "        print('.', end='')"
   ]
  },
  {
   "cell_type": "code",
   "execution_count": 87,
   "metadata": {},
   "outputs": [
    {
     "name": "stdout",
     "output_type": "stream",
     "text": [
      "\n",
      "....................................................................................................\n",
      "....................................................................................................\n",
      "....................................................................................................\n",
      "....................................................................................................\n",
      "....................................................................................................\n",
      "....................................................................................................\n",
      "....................................................................................................\n",
      "....................................................................................................\n",
      "....................................................................................................\n",
      "....................................................................................................\n"
     ]
    }
   ],
   "source": [
    "history = model.fit(train_dataset,\n",
    "                    train_labels,\n",
    "                    epochs=1000,\n",
    "                    validation_split=0.2,\n",
    "                    verbose=0,\n",
    "                    callbacks=[PrintDot()])\n",
    "print('')"
   ]
  },
  {
   "cell_type": "code",
   "execution_count": 88,
   "metadata": {},
   "outputs": [
    {
     "name": "stdout",
     "output_type": "stream",
     "text": [
      "          acc      loss  mean_squared_error   val_acc   val_loss  \\\n",
      "995  0.985781  7.726316            7.726318  0.987500   6.379226   \n",
      "996  0.987656  7.808483            7.808481  0.987500   6.819171   \n",
      "997  0.987969  7.549473            7.549472  0.988750  10.726347   \n",
      "998  0.988594  7.672552            7.672552  0.989375   6.015703   \n",
      "999  0.990000  6.291154            6.291155  0.988750   5.426029   \n",
      "\n",
      "     val_mean_squared_error  epoch  \n",
      "995                6.379225    995  \n",
      "996                6.819172    996  \n",
      "997               10.726349    997  \n",
      "998                6.015703    998  \n",
      "999                5.426030    999  \n"
     ]
    }
   ],
   "source": [
    "history_df = pd.DataFrame(history.history)\n",
    "history_df['epoch'] = history.epoch\n",
    "print(history_df.tail())"
   ]
  },
  {
   "cell_type": "code",
   "execution_count": 89,
   "metadata": {},
   "outputs": [],
   "source": [
    "def plot_history(history):\n",
    "    hist = pd.DataFrame(history.history)\n",
    "    hist['epoch'] = history.epoch\n",
    "\n",
    "    plt.figure()\n",
    "    plt.xlabel('Epoch')\n",
    "    plt.ylabel('Mean Square Error')\n",
    "    plt.plot(hist['epoch'], hist['mean_squared_error'],\n",
    "             label='Train Error')\n",
    "    plt.plot(hist['epoch'], hist['val_mean_squared_error'],\n",
    "             label='Val Error')\n",
    "    plt.semilogy()\n",
    "    plt.legend()\n",
    "    plt.show()"
   ]
  },
  {
   "cell_type": "code",
   "execution_count": 90,
   "metadata": {},
   "outputs": [
    {
     "data": {
      "image/png": "[encoded data removed]",
      "text/plain": [
       "<Figure size 432x288 with 1 Axes>"
      ]
     },
     "metadata": {
      "needs_background": "light"
     },
     "output_type": "display_data"
    }
   ],
   "source": [
    "plot_history(history)"
   ]
  },
  {
   "cell_type": "code",
   "execution_count": 91,
   "metadata": {},
   "outputs": [
    {
     "name": "stdout",
     "output_type": "stream",
     "text": [
      "Test dataset Accuracy: 0.9909999966621399 Mean Square Error: 5.848544597625732\n"
     ]
    }
   ],
   "source": [
    "loss, accuracy, mse = model.evaluate(test_dataset, test_labels, verbose=0)\n",
    "print(\"Test dataset Accuracy: {} Mean Square Error: {}\".format(accuracy, mse))"
   ]
  },
  {
   "cell_type": "code",
   "execution_count": null,
   "metadata": {},
   "outputs": [],
   "source": []
  }
 ],
 "metadata": {
  "kernelspec": {
   "name": "pycharm-a2657814",
   "language": "python",
   "display_name": "PyCharm (ik-nn)"
  },
  "language_info": {
   "codemirror_mode": {
    "name": "ipython",
    "version": 3
   },
   "file_extension": ".py",
   "mimetype": "text/x-python",
   "name": "python",
   "nbconvert_exporter": "python",
   "pygments_lexer": "ipython3",
   "version": "3.5.2"
  },
  "pycharm": {
   "stem_cell": {
    "cell_type": "raw",
    "source": [],
    "metadata": {
     "collapsed": false
    }
   }
  }
 },
 "nbformat": 4,
 "nbformat_minor": 2
}